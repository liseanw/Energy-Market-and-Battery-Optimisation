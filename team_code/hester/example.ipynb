{
 "cells": [
  {
   "cell_type": "markdown",
   "metadata": {},
   "source": [
    "# Example Process"
   ]
  },
  {
   "cell_type": "markdown",
   "metadata": {},
   "source": [
    "### Import Libraries"
   ]
  },
  {
   "cell_type": "code",
   "execution_count": 1,
   "metadata": {},
   "outputs": [
    {
     "name": "stderr",
     "output_type": "stream",
     "text": [
      "In /anaconda3/lib/python3.7/site-packages/matplotlib/mpl-data/stylelib/_classic_test.mplstyle: \n",
      "The text.latex.unicode rcparam was deprecated in Matplotlib 3.0 and will be removed in 3.2.\n",
      "In /anaconda3/lib/python3.7/site-packages/matplotlib/mpl-data/stylelib/_classic_test.mplstyle: \n",
      "The savefig.frameon rcparam was deprecated in Matplotlib 3.1 and will be removed in 3.3.\n",
      "In /anaconda3/lib/python3.7/site-packages/matplotlib/mpl-data/stylelib/_classic_test.mplstyle: \n",
      "The pgf.debug rcparam was deprecated in Matplotlib 3.0 and will be removed in 3.2.\n",
      "In /anaconda3/lib/python3.7/site-packages/matplotlib/mpl-data/stylelib/_classic_test.mplstyle: \n",
      "The verbose.level rcparam was deprecated in Matplotlib 3.1 and will be removed in 3.3.\n",
      "In /anaconda3/lib/python3.7/site-packages/matplotlib/mpl-data/stylelib/_classic_test.mplstyle: \n",
      "The verbose.fileo rcparam was deprecated in Matplotlib 3.1 and will be removed in 3.3.\n"
     ]
    }
   ],
   "source": [
    "import pandas as pd\n",
    "from datetime import timedelta\n",
    "import seaborn as sns\n",
    "import matplotlib.pyplot as plt\n",
    "import numpy as np\n",
    "plt.rc('font', size=12)\n",
    "import math\n",
    "# Filter out deprecated warnings\n",
    "import warnings\n",
    "warnings.filterwarnings(\"ignore\")\n",
    "\n",
    "import time"
   ]
  },
  {
   "cell_type": "markdown",
   "metadata": {},
   "source": [
    "### Constant - COPY AND PASTE"
   ]
  },
  {
   "cell_type": "code",
   "execution_count": 2,
   "metadata": {},
   "outputs": [],
   "source": [
    "TIME = 'Time (UTC+10)'\n",
    "PRICE = 'Regions VIC Trading Price ($/MWh)'\n",
    "GENERATION = 'Regions VIC Trading Total Intermittent Generation (MW)'\n",
    "DEMAND = 'Regions VIC Operational Demand (MW)'\n",
    "\n",
    "POWER = 300\n",
    "CAPACITY = 580\n",
    "CHARGE_EFF = 90\n",
    "DISCHARGE_EFF = 90\n",
    "MLF = 0.991\n",
    "FIXED_OP = 8.1\n",
    "VAR_OP = 0"
   ]
  },
  {
   "cell_type": "markdown",
   "metadata": {},
   "source": [
    "### Data Import"
   ]
  },
  {
   "cell_type": "code",
   "execution_count": 3,
   "metadata": {},
   "outputs": [
    {
     "data": {
      "text/html": [
       "<div>\n",
       "<style scoped>\n",
       "    .dataframe tbody tr th:only-of-type {\n",
       "        vertical-align: middle;\n",
       "    }\n",
       "\n",
       "    .dataframe tbody tr th {\n",
       "        vertical-align: top;\n",
       "    }\n",
       "\n",
       "    .dataframe thead th {\n",
       "        text-align: right;\n",
       "    }\n",
       "</style>\n",
       "<table border=\"1\" class=\"dataframe\">\n",
       "  <thead>\n",
       "    <tr style=\"text-align: right;\">\n",
       "      <th></th>\n",
       "      <th>Time (UTC+10)</th>\n",
       "      <th>Period</th>\n",
       "      <th>Regions VIC Trading Price ($/MWh)</th>\n",
       "      <th>Regions VIC Trading Total Intermittent Generation (MW)</th>\n",
       "      <th>Regions VIC Operational Demand (MW)</th>\n",
       "    </tr>\n",
       "  </thead>\n",
       "  <tbody>\n",
       "    <tr>\n",
       "      <th>0</th>\n",
       "      <td>2018-01-01 00:00:00</td>\n",
       "      <td>48</td>\n",
       "      <td>90.43</td>\n",
       "      <td>146.87</td>\n",
       "      <td>4599</td>\n",
       "    </tr>\n",
       "    <tr>\n",
       "      <th>1</th>\n",
       "      <td>2018-01-01 00:30:00</td>\n",
       "      <td>1</td>\n",
       "      <td>92.46</td>\n",
       "      <td>131.68</td>\n",
       "      <td>4398</td>\n",
       "    </tr>\n",
       "    <tr>\n",
       "      <th>2</th>\n",
       "      <td>2018-01-01 01:00:00</td>\n",
       "      <td>2</td>\n",
       "      <td>87.62</td>\n",
       "      <td>119.98</td>\n",
       "      <td>4238</td>\n",
       "    </tr>\n",
       "    <tr>\n",
       "      <th>3</th>\n",
       "      <td>2018-01-01 01:30:00</td>\n",
       "      <td>3</td>\n",
       "      <td>73.08</td>\n",
       "      <td>123.86</td>\n",
       "      <td>4112</td>\n",
       "    </tr>\n",
       "    <tr>\n",
       "      <th>4</th>\n",
       "      <td>2018-01-01 02:00:00</td>\n",
       "      <td>4</td>\n",
       "      <td>70.18</td>\n",
       "      <td>132.72</td>\n",
       "      <td>3956</td>\n",
       "    </tr>\n",
       "  </tbody>\n",
       "</table>\n",
       "</div>"
      ],
      "text/plain": [
       "        Time (UTC+10)  Period  Regions VIC Trading Price ($/MWh)  \\\n",
       "0 2018-01-01 00:00:00      48                              90.43   \n",
       "1 2018-01-01 00:30:00       1                              92.46   \n",
       "2 2018-01-01 01:00:00       2                              87.62   \n",
       "3 2018-01-01 01:30:00       3                              73.08   \n",
       "4 2018-01-01 02:00:00       4                              70.18   \n",
       "\n",
       "   Regions VIC Trading Total Intermittent Generation (MW)  \\\n",
       "0                                             146.87        \n",
       "1                                             131.68        \n",
       "2                                             119.98        \n",
       "3                                             123.86        \n",
       "4                                             132.72        \n",
       "\n",
       "   Regions VIC Operational Demand (MW)  \n",
       "0                                 4599  \n",
       "1                                 4398  \n",
       "2                                 4238  \n",
       "3                                 4112  \n",
       "4                                 3956  "
      ]
     },
     "execution_count": 3,
     "metadata": {},
     "output_type": "execute_result"
    }
   ],
   "source": [
    "data = pd.read_excel('../../data/market_data.xlsx')\n",
    "data1 = data\n",
    "\n",
    "vic_data = data[['Time (UTC+10)', 'Regions VIC Trading Price ($/MWh)', \n",
    "                 'Regions VIC Trading Total Intermittent Generation (MW)', \n",
    "                 'Regions VIC Operational Demand (MW)']]\n",
    "\n",
    "# Since the first date is at 00:00:00, the first period should be 48\n",
    "period = [48]\n",
    "x = 1\n",
    "while x < len(vic_data):\n",
    "    for i in range(48):\n",
    "        period.append(i+1)\n",
    "        x += 1\n",
    "        \n",
    "vic_data.insert(1, 'Period', period)\n",
    "\n",
    "vic = data[['Time (UTC+10)', 'Regions VIC Trading Price ($/MWh)', \n",
    "                 'Regions VIC Trading Total Intermittent Generation (MW)', \n",
    "                 'Regions VIC Operational Demand (MW)']]\n",
    "\n",
    "vic.insert(1, 'Period', period)\n",
    "vic.drop([0], axis=0)\n",
    "\n",
    "vic.head(5)"
   ]
  },
  {
   "cell_type": "markdown",
   "metadata": {},
   "source": [
    "### Find Optimal Discharge and Charge Period - DEPENDS ON WHETHER YOUR ALGO NEEDS THIS"
   ]
  },
  {
   "cell_type": "code",
   "execution_count": 4,
   "metadata": {},
   "outputs": [],
   "source": [
    "spot_price = vic.groupby(['Period'])[[PRICE]].mean()\n",
    "\n",
    "MIN_PRICE = spot_price.min()\n",
    "MAX_PRICE = spot_price.max()\n",
    "\n",
    "max_price = 0\n",
    "min_price = 1100\n",
    "max_i = 0\n",
    "min_i = 0\n",
    "\n",
    "#second_max_price = 0\n",
    "#second_min_price = 1000\n",
    "#sec_max_loc = 0\n",
    "#sec_min_loc = 0\n",
    "\n",
    "for i in range(48-6):\n",
    "    curr = spot_price.iloc[i:i+6 ,0].sum()\n",
    "    \n",
    "    if curr < min_price:\n",
    "        #second_min_price = min_price\n",
    "        min_price = curr\n",
    "        #sec_min_loc = min_i\n",
    "        min_i = i\n",
    "        \n",
    "    if curr > max_price:\n",
    "        #second_max_price = max_price\n",
    "        max_price = curr\n",
    "        #sec_max_loc = max_i\n",
    "        max_i = i\n",
    "        \n",
    "max_period = []\n",
    "min_period = []\n",
    "\n",
    "#sec_max_period = []\n",
    "#sec_min_period = []\n",
    "\n",
    "for i in range(6):\n",
    "    max_period.append(max_i + i)\n",
    "    min_period.append(min_i + i)\n",
    "    \n",
    "    #sec_max_period.append(sec_min_loc + i)\n",
    "    #sec_min_period.append(sec_min_loc + i)\n",
    "    \n",
    "behaviour = []\n",
    "for i in range(48):\n",
    "    if i in max_period:\n",
    "        behaviour.append(1)\n",
    "        \n",
    "    elif i in min_period:\n",
    "        behaviour.append(-1)\n",
    "    \n",
    "    else:\n",
    "        behaviour.append(0)\n",
    "        \n",
    "spot_price['Behaviour'] = behaviour\n",
    "\n",
    "# the charge and discharge period are fixed in Algorithm 2, +1 to get their periods\n",
    "charge_period = list(np.asarray(min_period) + 1)\n",
    "discharge_period = list(np.asarray(max_period) + 1)\n"
   ]
  },
  {
   "cell_type": "markdown",
   "metadata": {},
   "source": [
    "### Run Discharge and Charge Algorithm - CHANGE TO YOUR ALGORITHM HERE"
   ]
  },
  {
   "cell_type": "code",
   "execution_count": 5,
   "metadata": {},
   "outputs": [],
   "source": [
    "def run_algo2(period, charge_period, discharge_period):\n",
    "    \"\"\"Run Algorithm 2\"\"\"\n",
    "    raw_power = 0\n",
    "    if period in charge_period:\n",
    "        raw_power = -math.floor(min(POWER,(CAPACITY-opening_cap)/(CHARGE_EFF/100)*2))\n",
    "    elif period in discharge_period:\n",
    "        raw_power = math.floor(min(POWER,opening_cap/(DISCHARGE_EFF/100)*2))\n",
    "    return raw_power"
   ]
  },
  {
   "cell_type": "markdown",
   "metadata": {},
   "source": [
    "### Helper functions - COPY AND PASTE"
   ]
  },
  {
   "cell_type": "code",
   "execution_count": 6,
   "metadata": {},
   "outputs": [],
   "source": [
    "def create_df(train_df):\n",
    "    \"\"\" Create raw_power, dispatch, revenue, opening and closing column\"\"\"\n",
    "    df = train_df[[TIME, 'Period', PRICE]]\n",
    "    df['raw_power'] = np.zeros(len(train_df))\n",
    "    df['dispatch'] = np.zeros(len(train_df))\n",
    "    df['revenue'] = np.zeros(len(train_df))\n",
    "    df['opening'] = np.zeros(len(train_df))\n",
    "    df['closing'] = np.zeros(len(train_df))\n",
    "    # Drop the first row. Not the first period\n",
    "    df = df.drop([0], axis=0)\n",
    "    df['revenue'] = np.nan\n",
    "\n",
    "    return df\n",
    "\n",
    "def get_opencap(index, df):\n",
    "    \"\"\"Get the opening battery capacity per index \"\"\"\n",
    "    if index != 1: #Not the first row\n",
    "        df.at[i,\"opening\"] = df.at[i-1,\"closing\"]\n",
    "    opening_cap = math.ceil(df.at[i, \"opening\"])\n",
    "    return opening_cap\n",
    "\n",
    "def get_dispatch(rawPower):\n",
    "    \"\"\" Get the power dispatched \"\"\"\n",
    "    if rawPower < 0:\n",
    "        eff = 1\n",
    "    else:\n",
    "        eff = DISCHARGE_EFF / 100\n",
    "            \n",
    "    dispatch = round(rawPower / 2 * eff, 0)\n",
    "    return dispatch\n",
    "    \n",
    "def get_closecap(opening_cap, dispatch):\n",
    "    \"\"\"Get the battery closing capacity\"\"\"\n",
    "    if dispatch < 0:\n",
    "        eff = CHARGE_EFF / 100\n",
    "    else:\n",
    "        eff = 100 / DISCHARGE_EFF\n",
    "\n",
    "    closecap = math.ceil(max(0, min((opening_cap - (dispatch * eff)), CAPACITY)))\n",
    "    return closecap\n",
    "    \n",
    "def get_revenue(price, dispatch):\n",
    "    \"\"\" Get the Revenue\"\"\"\n",
    "    if dispatch < 0:\n",
    "        factor = 1/MLF\n",
    "    else:\n",
    "        factor = MLF \n",
    "    revenue = math.ceil(price * dispatch * factor)\n",
    "    return revenue\n",
    "\n",
    "def show_result(df):\n",
    "    print(\"Total revenue in the dataset:\", df[\"revenue\"].sum())\n",
    "    print(\"Total days in the dataset:\", len(df)/48)\n",
    "    print(\"Revenue per day:\", df[\"revenue\"].sum() / (len(df)/48))"
   ]
  },
  {
   "cell_type": "markdown",
   "metadata": {},
   "source": [
    "### Run the entire optimization algorithm"
   ]
  },
  {
   "cell_type": "code",
   "execution_count": 7,
   "metadata": {},
   "outputs": [
    {
     "name": "stdout",
     "output_type": "stream",
     "text": [
      "Time Complexity for running: 4.655720949172974s\n"
     ]
    }
   ],
   "source": [
    "start = time.time()\n",
    "\n",
    "df = create_df(vic)\n",
    "    \n",
    "for i in list(df.index):\n",
    "    period = df.at[i, \"Period\"]\n",
    "    price = df.at[i, PRICE]\n",
    "\n",
    "    # Battery Opening Capacity\n",
    "    opening_cap = get_opencap(i, df)\n",
    "\n",
    "    # Raw Power - INSERT YOUR ALGORITHM HERE\n",
    "    rawPower = run_algo2(period, charge_period, discharge_period)\n",
    "    df.at[i, \"raw_power\"] = rawPower\n",
    "\n",
    "    # Market Dispatch\n",
    "    dispatch = get_dispatch(rawPower)\n",
    "    df.at[i,\"dispatch\"] = dispatch\n",
    "\n",
    "    # Closing Capacity\n",
    "    df.at[i,\"closing\"] = get_closecap(opening_cap, dispatch)\n",
    "\n",
    "    # Market Revenue\n",
    "    df.at[i,\"revenue\"] = get_revenue(price, dispatch) \n",
    "\n",
    "end = time.time()\n",
    "print(\"Time Complexity for running: {time_taken}s\".format(time_taken = end-start))"
   ]
  },
  {
   "cell_type": "code",
   "execution_count": 8,
   "metadata": {},
   "outputs": [
    {
     "name": "stdout",
     "output_type": "stream",
     "text": [
      "Total revenue in the dataset: 55937605.0\n",
      "Total days in the dataset: 1322.0\n",
      "Revenue per day: 42312.86308623298\n"
     ]
    }
   ],
   "source": [
    "show_result(df)"
   ]
  },
  {
   "cell_type": "code",
   "execution_count": null,
   "metadata": {},
   "outputs": [],
   "source": []
  }
 ],
 "metadata": {
  "kernelspec": {
   "display_name": "Python 3",
   "language": "python",
   "name": "python3"
  },
  "language_info": {
   "codemirror_mode": {
    "name": "ipython",
    "version": 3
   },
   "file_extension": ".py",
   "mimetype": "text/x-python",
   "name": "python",
   "nbconvert_exporter": "python",
   "pygments_lexer": "ipython3",
   "version": "3.7.5"
  }
 },
 "nbformat": 4,
 "nbformat_minor": 2
}
