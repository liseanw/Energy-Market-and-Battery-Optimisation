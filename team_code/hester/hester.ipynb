{
 "cells": [
  {
   "cell_type": "code",
   "execution_count": 1,
   "metadata": {},
   "outputs": [],
   "source": [
    "# import libraries\n",
    "import pandas as pd\n",
    "import numpy as np\n",
    "\n",
    "from datetime import datetime\n",
    "import matplotlib.pyplot as plt\n",
    "import seaborn as sns\n",
    "\n",
    "import warnings\n",
    "warnings.filterwarnings(\"ignore\")"
   ]
  },
  {
   "cell_type": "code",
   "execution_count": 2,
   "metadata": {},
   "outputs": [],
   "source": [
    "market_df = pd.read_excel('../../data/market_data.xlsx')"
   ]
  },
  {
   "cell_type": "markdown",
   "metadata": {},
   "source": [
    "## Data preprocessing"
   ]
  },
  {
   "cell_type": "code",
   "execution_count": 3,
   "metadata": {},
   "outputs": [
    {
     "data": {
      "text/plain": [
       "Time (UTC+10)                                             datetime64[ns]\n",
       "Regions NSW Trading Price ($/MWh)                                float64\n",
       "Regions SA Trading Price ($/MWh)                                 float64\n",
       "Regions TAS Trading Price ($/MWh)                                float64\n",
       "Regions VIC Trading Price ($/MWh)                                float64\n",
       "Regions NSW Trading Total Intermittent Generation (MW)           float64\n",
       "Regions SA Trading Total Intermittent Generation (MW)            float64\n",
       "Regions TAS Trading Total Intermittent Generation (MW)           float64\n",
       "Regions VIC Trading Total Intermittent Generation (MW)           float64\n",
       "Regions NSW Operational Demand (MW)                                int64\n",
       "Regions SA Operational Demand (MW)                                 int64\n",
       "Regions TAS Operational Demand (MW)                                int64\n",
       "Regions VIC Operational Demand (MW)                                int64\n",
       "dtype: object"
      ]
     },
     "execution_count": 3,
     "metadata": {},
     "output_type": "execute_result"
    }
   ],
   "source": [
    "# Check dtypes : No problem \n",
    "market_df.dtypes"
   ]
  },
  {
   "cell_type": "code",
   "execution_count": 4,
   "metadata": {},
   "outputs": [
    {
     "data": {
      "text/plain": [
       "False"
      ]
     },
     "execution_count": 4,
     "metadata": {},
     "output_type": "execute_result"
    }
   ],
   "source": [
    "# Check missing values : No Missing Values\n",
    "market_df.isnull().values.any()"
   ]
  },
  {
   "cell_type": "code",
   "execution_count": 5,
   "metadata": {},
   "outputs": [
    {
     "data": {
      "text/html": [
       "<div>\n",
       "<style scoped>\n",
       "    .dataframe tbody tr th:only-of-type {\n",
       "        vertical-align: middle;\n",
       "    }\n",
       "\n",
       "    .dataframe tbody tr th {\n",
       "        vertical-align: top;\n",
       "    }\n",
       "\n",
       "    .dataframe thead th {\n",
       "        text-align: right;\n",
       "    }\n",
       "</style>\n",
       "<table border=\"1\" class=\"dataframe\">\n",
       "  <thead>\n",
       "    <tr style=\"text-align: right;\">\n",
       "      <th></th>\n",
       "      <th>Regions NSW Trading Price ($/MWh)</th>\n",
       "      <th>Regions SA Trading Price ($/MWh)</th>\n",
       "      <th>Regions TAS Trading Price ($/MWh)</th>\n",
       "      <th>Regions VIC Trading Price ($/MWh)</th>\n",
       "      <th>Regions NSW Trading Total Intermittent Generation (MW)</th>\n",
       "      <th>Regions SA Trading Total Intermittent Generation (MW)</th>\n",
       "      <th>Regions TAS Trading Total Intermittent Generation (MW)</th>\n",
       "      <th>Regions VIC Trading Total Intermittent Generation (MW)</th>\n",
       "      <th>Regions NSW Operational Demand (MW)</th>\n",
       "      <th>Regions SA Operational Demand (MW)</th>\n",
       "      <th>Regions TAS Operational Demand (MW)</th>\n",
       "      <th>Regions VIC Operational Demand (MW)</th>\n",
       "    </tr>\n",
       "  </thead>\n",
       "  <tbody>\n",
       "    <tr>\n",
       "      <th>count</th>\n",
       "      <td>63457.000000</td>\n",
       "      <td>63457.000000</td>\n",
       "      <td>63457.000000</td>\n",
       "      <td>63457.000000</td>\n",
       "      <td>63457.000000</td>\n",
       "      <td>63457.000000</td>\n",
       "      <td>63457.000000</td>\n",
       "      <td>63457.000000</td>\n",
       "      <td>63457.000000</td>\n",
       "      <td>63457.000000</td>\n",
       "      <td>63457.000000</td>\n",
       "      <td>63457.000000</td>\n",
       "    </tr>\n",
       "    <tr>\n",
       "      <th>mean</th>\n",
       "      <td>76.490073</td>\n",
       "      <td>77.168657</td>\n",
       "      <td>64.705163</td>\n",
       "      <td>78.746880</td>\n",
       "      <td>65.665476</td>\n",
       "      <td>112.431257</td>\n",
       "      <td>103.323441</td>\n",
       "      <td>169.029236</td>\n",
       "      <td>7977.524371</td>\n",
       "      <td>1399.975905</td>\n",
       "      <td>1172.162898</td>\n",
       "      <td>5083.026018</td>\n",
       "    </tr>\n",
       "    <tr>\n",
       "      <th>std</th>\n",
       "      <td>206.959029</td>\n",
       "      <td>302.062059</td>\n",
       "      <td>82.680094</td>\n",
       "      <td>289.259796</td>\n",
       "      <td>55.152681</td>\n",
       "      <td>80.120747</td>\n",
       "      <td>48.436695</td>\n",
       "      <td>114.763946</td>\n",
       "      <td>1251.105505</td>\n",
       "      <td>339.076961</td>\n",
       "      <td>140.736186</td>\n",
       "      <td>862.678623</td>\n",
       "    </tr>\n",
       "    <tr>\n",
       "      <th>min</th>\n",
       "      <td>-139.930000</td>\n",
       "      <td>-919.780000</td>\n",
       "      <td>-844.650000</td>\n",
       "      <td>-676.370000</td>\n",
       "      <td>-1.390000</td>\n",
       "      <td>-1.790000</td>\n",
       "      <td>0.000000</td>\n",
       "      <td>-0.860000</td>\n",
       "      <td>5310.000000</td>\n",
       "      <td>300.000000</td>\n",
       "      <td>711.000000</td>\n",
       "      <td>2529.000000</td>\n",
       "    </tr>\n",
       "    <tr>\n",
       "      <th>25%</th>\n",
       "      <td>42.060000</td>\n",
       "      <td>39.090000</td>\n",
       "      <td>32.840000</td>\n",
       "      <td>39.010000</td>\n",
       "      <td>19.050000</td>\n",
       "      <td>44.000000</td>\n",
       "      <td>63.710000</td>\n",
       "      <td>70.080000</td>\n",
       "      <td>7068.000000</td>\n",
       "      <td>1208.000000</td>\n",
       "      <td>1068.000000</td>\n",
       "      <td>4438.000000</td>\n",
       "    </tr>\n",
       "    <tr>\n",
       "      <th>50%</th>\n",
       "      <td>61.130000</td>\n",
       "      <td>64.830000</td>\n",
       "      <td>55.640000</td>\n",
       "      <td>64.110000</td>\n",
       "      <td>50.870000</td>\n",
       "      <td>97.460000</td>\n",
       "      <td>98.950000</td>\n",
       "      <td>152.060000</td>\n",
       "      <td>7843.000000</td>\n",
       "      <td>1373.000000</td>\n",
       "      <td>1149.000000</td>\n",
       "      <td>4972.000000</td>\n",
       "    </tr>\n",
       "    <tr>\n",
       "      <th>75%</th>\n",
       "      <td>83.630000</td>\n",
       "      <td>95.020000</td>\n",
       "      <td>87.780000</td>\n",
       "      <td>94.850000</td>\n",
       "      <td>105.150000</td>\n",
       "      <td>169.900000</td>\n",
       "      <td>141.650000</td>\n",
       "      <td>257.320000</td>\n",
       "      <td>8686.000000</td>\n",
       "      <td>1571.000000</td>\n",
       "      <td>1252.000000</td>\n",
       "      <td>5585.000000</td>\n",
       "    </tr>\n",
       "    <tr>\n",
       "      <th>max</th>\n",
       "      <td>14700.000000</td>\n",
       "      <td>14700.000000</td>\n",
       "      <td>4551.390000</td>\n",
       "      <td>14700.000000</td>\n",
       "      <td>228.700000</td>\n",
       "      <td>334.970000</td>\n",
       "      <td>235.480000</td>\n",
       "      <td>467.480000</td>\n",
       "      <td>13835.000000</td>\n",
       "      <td>3240.000000</td>\n",
       "      <td>1724.000000</td>\n",
       "      <td>9667.000000</td>\n",
       "    </tr>\n",
       "  </tbody>\n",
       "</table>\n",
       "</div>"
      ],
      "text/plain": [
       "       Regions NSW Trading Price ($/MWh)  Regions SA Trading Price ($/MWh)  \\\n",
       "count                       63457.000000                      63457.000000   \n",
       "mean                           76.490073                         77.168657   \n",
       "std                           206.959029                        302.062059   \n",
       "min                          -139.930000                       -919.780000   \n",
       "25%                            42.060000                         39.090000   \n",
       "50%                            61.130000                         64.830000   \n",
       "75%                            83.630000                         95.020000   \n",
       "max                         14700.000000                      14700.000000   \n",
       "\n",
       "       Regions TAS Trading Price ($/MWh)  Regions VIC Trading Price ($/MWh)  \\\n",
       "count                       63457.000000                       63457.000000   \n",
       "mean                           64.705163                          78.746880   \n",
       "std                            82.680094                         289.259796   \n",
       "min                          -844.650000                        -676.370000   \n",
       "25%                            32.840000                          39.010000   \n",
       "50%                            55.640000                          64.110000   \n",
       "75%                            87.780000                          94.850000   \n",
       "max                          4551.390000                       14700.000000   \n",
       "\n",
       "       Regions NSW Trading Total Intermittent Generation (MW)  \\\n",
       "count                                       63457.000000        \n",
       "mean                                           65.665476        \n",
       "std                                            55.152681        \n",
       "min                                            -1.390000        \n",
       "25%                                            19.050000        \n",
       "50%                                            50.870000        \n",
       "75%                                           105.150000        \n",
       "max                                           228.700000        \n",
       "\n",
       "       Regions SA Trading Total Intermittent Generation (MW)  \\\n",
       "count                                       63457.000000       \n",
       "mean                                          112.431257       \n",
       "std                                            80.120747       \n",
       "min                                            -1.790000       \n",
       "25%                                            44.000000       \n",
       "50%                                            97.460000       \n",
       "75%                                           169.900000       \n",
       "max                                           334.970000       \n",
       "\n",
       "       Regions TAS Trading Total Intermittent Generation (MW)  \\\n",
       "count                                       63457.000000        \n",
       "mean                                          103.323441        \n",
       "std                                            48.436695        \n",
       "min                                             0.000000        \n",
       "25%                                            63.710000        \n",
       "50%                                            98.950000        \n",
       "75%                                           141.650000        \n",
       "max                                           235.480000        \n",
       "\n",
       "       Regions VIC Trading Total Intermittent Generation (MW)  \\\n",
       "count                                       63457.000000        \n",
       "mean                                          169.029236        \n",
       "std                                           114.763946        \n",
       "min                                            -0.860000        \n",
       "25%                                            70.080000        \n",
       "50%                                           152.060000        \n",
       "75%                                           257.320000        \n",
       "max                                           467.480000        \n",
       "\n",
       "       Regions NSW Operational Demand (MW)  \\\n",
       "count                         63457.000000   \n",
       "mean                           7977.524371   \n",
       "std                            1251.105505   \n",
       "min                            5310.000000   \n",
       "25%                            7068.000000   \n",
       "50%                            7843.000000   \n",
       "75%                            8686.000000   \n",
       "max                           13835.000000   \n",
       "\n",
       "       Regions SA Operational Demand (MW)  \\\n",
       "count                        63457.000000   \n",
       "mean                          1399.975905   \n",
       "std                            339.076961   \n",
       "min                            300.000000   \n",
       "25%                           1208.000000   \n",
       "50%                           1373.000000   \n",
       "75%                           1571.000000   \n",
       "max                           3240.000000   \n",
       "\n",
       "       Regions TAS Operational Demand (MW)  \\\n",
       "count                         63457.000000   \n",
       "mean                           1172.162898   \n",
       "std                             140.736186   \n",
       "min                             711.000000   \n",
       "25%                            1068.000000   \n",
       "50%                            1149.000000   \n",
       "75%                            1252.000000   \n",
       "max                            1724.000000   \n",
       "\n",
       "       Regions VIC Operational Demand (MW)  \n",
       "count                         63457.000000  \n",
       "mean                           5083.026018  \n",
       "std                             862.678623  \n",
       "min                            2529.000000  \n",
       "25%                            4438.000000  \n",
       "50%                            4972.000000  \n",
       "75%                            5585.000000  \n",
       "max                            9667.000000  "
      ]
     },
     "execution_count": 5,
     "metadata": {},
     "output_type": "execute_result"
    }
   ],
   "source": [
    "# Explore descriptive stats\n",
    "market_df.describe()"
   ]
  },
  {
   "cell_type": "markdown",
   "metadata": {},
   "source": [
    "##### Comment:\n",
    "- Can Trading Price be negative?\n",
    "- Can Power Generated be negative?\n",
    "- Should we check if the formula was calculated correctly?"
   ]
  },
  {
   "cell_type": "code",
   "execution_count": 6,
   "metadata": {},
   "outputs": [
    {
     "data": {
      "text/html": [
       "<div>\n",
       "<style scoped>\n",
       "    .dataframe tbody tr th:only-of-type {\n",
       "        vertical-align: middle;\n",
       "    }\n",
       "\n",
       "    .dataframe tbody tr th {\n",
       "        vertical-align: top;\n",
       "    }\n",
       "\n",
       "    .dataframe thead th {\n",
       "        text-align: right;\n",
       "    }\n",
       "</style>\n",
       "<table border=\"1\" class=\"dataframe\">\n",
       "  <thead>\n",
       "    <tr style=\"text-align: right;\">\n",
       "      <th></th>\n",
       "      <th>Time (UTC+10)</th>\n",
       "      <th>Regions VIC Trading Price ($/MWh)</th>\n",
       "      <th>Regions VIC Trading Total Intermittent Generation (MW)</th>\n",
       "      <th>Regions VIC Operational Demand (MW)</th>\n",
       "    </tr>\n",
       "  </thead>\n",
       "  <tbody>\n",
       "    <tr>\n",
       "      <th>0</th>\n",
       "      <td>2018-01-01 00:00:00</td>\n",
       "      <td>90.43</td>\n",
       "      <td>146.87</td>\n",
       "      <td>4599</td>\n",
       "    </tr>\n",
       "    <tr>\n",
       "      <th>1</th>\n",
       "      <td>2018-01-01 00:30:00</td>\n",
       "      <td>92.46</td>\n",
       "      <td>131.68</td>\n",
       "      <td>4398</td>\n",
       "    </tr>\n",
       "    <tr>\n",
       "      <th>2</th>\n",
       "      <td>2018-01-01 01:00:00</td>\n",
       "      <td>87.62</td>\n",
       "      <td>119.98</td>\n",
       "      <td>4238</td>\n",
       "    </tr>\n",
       "    <tr>\n",
       "      <th>3</th>\n",
       "      <td>2018-01-01 01:30:00</td>\n",
       "      <td>73.08</td>\n",
       "      <td>123.86</td>\n",
       "      <td>4112</td>\n",
       "    </tr>\n",
       "    <tr>\n",
       "      <th>4</th>\n",
       "      <td>2018-01-01 02:00:00</td>\n",
       "      <td>70.18</td>\n",
       "      <td>132.72</td>\n",
       "      <td>3956</td>\n",
       "    </tr>\n",
       "  </tbody>\n",
       "</table>\n",
       "</div>"
      ],
      "text/plain": [
       "        Time (UTC+10)  Regions VIC Trading Price ($/MWh)  \\\n",
       "0 2018-01-01 00:00:00                              90.43   \n",
       "1 2018-01-01 00:30:00                              92.46   \n",
       "2 2018-01-01 01:00:00                              87.62   \n",
       "3 2018-01-01 01:30:00                              73.08   \n",
       "4 2018-01-01 02:00:00                              70.18   \n",
       "\n",
       "   Regions VIC Trading Total Intermittent Generation (MW)  \\\n",
       "0                                             146.87        \n",
       "1                                             131.68        \n",
       "2                                             119.98        \n",
       "3                                             123.86        \n",
       "4                                             132.72        \n",
       "\n",
       "   Regions VIC Operational Demand (MW)  \n",
       "0                                 4599  \n",
       "1                                 4398  \n",
       "2                                 4238  \n",
       "3                                 4112  \n",
       "4                                 3956  "
      ]
     },
     "execution_count": 6,
     "metadata": {},
     "output_type": "execute_result"
    }
   ],
   "source": [
    "# Look at Victoria only\n",
    "victoria_df = market_df[['Time (UTC+10)', \n",
    "                     'Regions VIC Trading Price ($/MWh)',\n",
    "                     'Regions VIC Trading Total Intermittent Generation (MW)',\n",
    "                     'Regions VIC Operational Demand (MW)' ]]\n",
    "victoria_df.head()"
   ]
  },
  {
   "cell_type": "code",
   "execution_count": 7,
   "metadata": {},
   "outputs": [
    {
     "data": {
      "image/png": "[encoded data removed]",
      "text/plain": [
       "<Figure size 432x288 with 2 Axes>"
      ]
     },
     "metadata": {
      "needs_background": "light"
     },
     "output_type": "display_data"
    }
   ],
   "source": [
    "# Correlation : Not highly correlated between variables \n",
    "sns.heatmap(victoria_df.corr());"
   ]
  },
  {
   "cell_type": "markdown",
   "metadata": {},
   "source": [
    "## Time Series Analysis"
   ]
  },
  {
   "cell_type": "code",
   "execution_count": 8,
   "metadata": {},
   "outputs": [
    {
     "data": {
      "image/png": "[encoded data removed]",
      "text/plain": [
       "<Figure size 432x288 with 1 Axes>"
      ]
     },
     "metadata": {
      "needs_background": "light"
     },
     "output_type": "display_data"
    }
   ],
   "source": [
    "# Trading Price across time : There are some extreme values that needed further investigation. Negative price?\n",
    "plt.plot(victoria_df['Time (UTC+10)'],victoria_df['Regions VIC Trading Price ($/MWh)']);\n",
    "# Peaks are noticed during summer"
   ]
  },
  {
   "cell_type": "code",
   "execution_count": 9,
   "metadata": {},
   "outputs": [
    {
     "data": {
      "image/png": "[encoded data removed]",
      "text/plain": [
       "<Figure size 432x288 with 1 Axes>"
      ]
     },
     "metadata": {
      "needs_background": "light"
     },
     "output_type": "display_data"
    }
   ],
   "source": [
    "# Operational Demand across time : Seems to be relatively consistent with few peaks correlated with the extreme trading price\n",
    "plt.plot(victoria_df['Time (UTC+10)'],victoria_df['Regions VIC Operational Demand (MW)']);\n",
    "# Peaks during summer, smaller peaks during winter"
   ]
  },
  {
   "cell_type": "code",
   "execution_count": 10,
   "metadata": {},
   "outputs": [
    {
     "data": {
      "image/png": "[encoded data removed]",
      "text/plain": [
       "<Figure size 432x288 with 1 Axes>"
      ]
     },
     "metadata": {
      "needs_background": "light"
     },
     "output_type": "display_data"
    }
   ],
   "source": [
    "# Total Intermittent Generation across time : the range is too big to observe any trend \n",
    "plt.plot(victoria_df['Time (UTC+10)'],victoria_df['Regions VIC Trading Total Intermittent Generation (MW)']);\n",
    "# demand for electricity from solar panel is higher due to power outage of other sources such as coal, gas etc"
   ]
  },
  {
   "cell_type": "markdown",
   "metadata": {},
   "source": [
    "## Linear Regression "
   ]
  },
  {
   "cell_type": "code",
   "execution_count": 11,
   "metadata": {},
   "outputs": [],
   "source": [
    "# Can we predict the Price based on Demand(Operational Demand) and Supply(Intermittent Generation)?\n",
    "from sklearn.linear_model import LinearRegression\n",
    "\n",
    "X = victoria_df[['Regions VIC Operational Demand (MW)', 'Regions VIC Trading Total Intermittent Generation (MW)']]\n",
    "y =  victoria_df['Regions VIC Trading Price ($/MWh)']\n",
    "reg = LinearRegression().fit(X, y)"
   ]
  },
  {
   "cell_type": "code",
   "execution_count": 12,
   "metadata": {},
   "outputs": [
    {
     "name": "stdout",
     "output_type": "stream",
     "text": [
      "R-squared : 0.048586339872216944\n",
      "Coefficient of the model : [ 0.07030342 -0.20187076]\n",
      "Intercept : -244.48517455079417\n"
     ]
    }
   ],
   "source": [
    "# R-squared of the model \n",
    "print(\"R-squared : \" + str(reg.score(X, y)))\n",
    "print(\"Coefficient of the model : \" + str(reg.coef_))\n",
    "print(\"Intercept : \" + str(reg.intercept_))"
   ]
  },
  {
   "cell_type": "markdown",
   "metadata": {},
   "source": [
    "Comment :\n",
    "- Demand and Supply has relatively low predictive power. Forms the baseline? \n",
    "- Model seems to suggest something intuitive : Price increases as demand increases, Price increases as supply decreases."
   ]
  },
  {
   "cell_type": "markdown",
   "metadata": {},
   "source": [
    "## More questions\n",
    "- How to find the revenue per year?\n",
    "- How to know when to discharge or charge? New columns?"
   ]
  },
  {
   "cell_type": "code",
   "execution_count": 15,
   "metadata": {},
   "outputs": [],
   "source": [
    "import sys\n",
    "sys.path.append(\"../../team_code/hester/optimize_helpfuncs\") # path of helper functions"
   ]
  },
  {
   "cell_type": "code",
   "execution_count": 16,
   "metadata": {},
   "outputs": [],
   "source": [
    "from optimize_helpfuncs import get_dispatch"
   ]
  },
  {
   "cell_type": "code",
   "execution_count": 19,
   "metadata": {},
   "outputs": [],
   "source": [
    "POWER = 300\n",
    "CAPACITY = 580\n",
    "CHARGE_EFF = 90\n",
    "DISCHARGE_EFF = 90\n",
    "MLF = 0.991\n",
    "FIXED_OP = 8.1\n",
    "VAR_OP = 0"
   ]
  },
  {
   "cell_type": "code",
   "execution_count": 20,
   "metadata": {},
   "outputs": [
    {
     "ename": "NameError",
     "evalue": "name 'DISCHARGE_EFF' is not defined",
     "output_type": "error",
     "traceback": [
      "\u001b[0;31m---------------------------------------------------------------------------\u001b[0m",
      "\u001b[0;31mNameError\u001b[0m                                 Traceback (most recent call last)",
      "\u001b[0;32m<ipython-input-20-596039410a22>\u001b[0m in \u001b[0;36m<module>\u001b[0;34m\u001b[0m\n\u001b[0;32m----> 1\u001b[0;31m \u001b[0mget_dispatch\u001b[0m\u001b[0;34m(\u001b[0m\u001b[0;36m300\u001b[0m\u001b[0;34m)\u001b[0m\u001b[0;34m\u001b[0m\u001b[0;34m\u001b[0m\u001b[0m\n\u001b[0m",
      "\u001b[0;32m~/energy-market-and-battery-optimization-group-15/team_code/hester/optimize_helpfuncs.py\u001b[0m in \u001b[0;36mget_dispatch\u001b[0;34m(rawPower)\u001b[0m\n\u001b[1;32m     36\u001b[0m \u001b[0;34m\u001b[0m\u001b[0m\n\u001b[1;32m     37\u001b[0m     \u001b[0;32mreturn\u001b[0m \u001b[0mdf\u001b[0m\u001b[0;34m\u001b[0m\u001b[0;34m\u001b[0m\u001b[0m\n\u001b[0;32m---> 38\u001b[0;31m \u001b[0;34m\u001b[0m\u001b[0m\n\u001b[0m\u001b[1;32m     39\u001b[0m \u001b[0;32mdef\u001b[0m \u001b[0mget_opencap\u001b[0m\u001b[0;34m(\u001b[0m\u001b[0mindex\u001b[0m\u001b[0;34m,\u001b[0m \u001b[0mdf\u001b[0m\u001b[0;34m)\u001b[0m\u001b[0;34m:\u001b[0m\u001b[0;34m\u001b[0m\u001b[0;34m\u001b[0m\u001b[0m\n\u001b[1;32m     40\u001b[0m     \u001b[0;34m\"\"\"Get the opening battery capacity per index \"\"\"\u001b[0m\u001b[0;34m\u001b[0m\u001b[0;34m\u001b[0m\u001b[0m\n",
      "\u001b[0;31mNameError\u001b[0m: name 'DISCHARGE_EFF' is not defined"
     ]
    }
   ],
   "source": [
    "get_dispatch(300)"
   ]
  },
  {
   "cell_type": "code",
   "execution_count": null,
   "metadata": {},
   "outputs": [],
   "source": []
  }
 ],
 "metadata": {
  "kernelspec": {
   "display_name": "Python 3",
   "language": "python",
   "name": "python3"
  },
  "language_info": {
   "codemirror_mode": {
    "name": "ipython",
    "version": 3
   },
   "file_extension": ".py",
   "mimetype": "text/x-python",
   "name": "python",
   "nbconvert_exporter": "python",
   "pygments_lexer": "ipython3",
   "version": "3.7.5"
  }
 },
 "nbformat": 4,
 "nbformat_minor": 2
}
