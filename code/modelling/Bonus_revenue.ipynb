{
 "cells": [
  {
   "cell_type": "code",
   "execution_count": 1,
   "metadata": {},
   "outputs": [],
   "source": [
    "import pandas as pd\n",
    "import numpy as np\n",
    "import time\n",
    "from datetime import datetime\n",
    "\n",
    "import warnings\n",
    "warnings.filterwarnings(\"ignore\")"
   ]
  },
  {
   "cell_type": "code",
   "execution_count": 2,
   "metadata": {},
   "outputs": [],
   "source": [
    "predicted_data = pd.read_csv('../../data/Bonus_prediction.csv')"
   ]
  },
  {
   "cell_type": "code",
   "execution_count": 3,
   "metadata": {},
   "outputs": [],
   "source": [
    "# Constant Variables \n",
    "TIME = 'Time (UTC+10)'\n",
    "PRICE = 'Regions VIC Trading Price ($/MWh)'\n",
    "GENERATION = 'Regions VIC Trading Total Intermittent Generation (MW)'\n",
    "DEMAND = 'Regions VIC Operational Demand (MW)'\n",
    "\n",
    "POWER = 300\n",
    "CAPACITY = 580\n",
    "EFFICIENCY = 0.9\n",
    "CHARGE_EFF = 90\n",
    "DISCHARGE_EFF = 90\n",
    "MLF = 0.991\n",
    "FIXED_OP = 8.1\n",
    "VAR_OP = 0\n",
    "\n",
    "CHARGE = -1\n",
    "DISCHARGE = 1"
   ]
  },
  {
   "cell_type": "code",
   "execution_count": 4,
   "metadata": {},
   "outputs": [],
   "source": [
    "# percentile.exc from excel != np.percentile (np.percentile == percentile.inc from excel)\n",
    "# code taken from https://stackoverflow.com/questions/38596100/python-equivalent-of-excels-percentile-exc\n",
    "\n",
    "def quantile_exc(ser, q):\n",
    "    ser_sorted = ser.sort_values()\n",
    "    rank = q * (len(ser) + 1) - 1\n",
    "    assert rank > 0, 'quantile is too small'\n",
    "    rank_l = int(rank)\n",
    "    return ser_sorted.iat[rank_l] + (ser_sorted.iat[rank_l + 1] - ser_sorted.iat[rank_l]) * (rank - rank_l)"
   ]
  },
  {
   "cell_type": "code",
   "execution_count": 5,
   "metadata": {},
   "outputs": [],
   "source": [
    "def create_df(ori_df):\n",
    "    \"\"\" Returns a proper dataframe with columns needed, along with the unused first row \"\"\"\n",
    "\n",
    "    df = ori_df[[TIME, PRICE]]\n",
    "    df['raw_power'] = 0.0\n",
    "    df['dispatch'] = 0.0\n",
    "    df['revenue'] = 0.0\n",
    "    df['opening'] = 0.0\n",
    "    df['closing'] = 0.0\n",
    "    df['decision1'] = 0\n",
    "    df['decision2'] = 0\n",
    "    \n",
    "    # I removed the first row because first row of vic is 00:00:00, \n",
    "    # which is the last period from the previous year\n",
    "    first_row = df.loc[0]\n",
    "    df = df.drop([0], axis=0) \n",
    "    \n",
    "    return df, first_row"
   ]
  },
  {
   "cell_type": "code",
   "execution_count": 6,
   "metadata": {},
   "outputs": [],
   "source": [
    "def algo3_modified(df):\n",
    "    \"\"\" Finds optimal charge and discharge time across the dataset \"\"\"\n",
    "    \"\"\" Modified from Algorithm 3 provided in the Excel file (2021_UMelbAppliedData_Worked) \"\"\"\n",
    "    \n",
    "    for i in list(df.index):\n",
    "\n",
    "        if ((i+LOOKAHEAD) < len(df)):\n",
    "\n",
    "            thelist = df.iloc[i:i+LOOKAHEAD][PRICE]\n",
    "            ser = pd.Series(thelist)\n",
    "            LOWER_PERCENTILE = quantile_exc(ser,CHARGING_PERCENTILE)\n",
    "            HIGHER_PERCENTILE = quantile_exc(ser,DISCHARGING_PERCENTILE)\n",
    "            \n",
    "            # charge if the current price is lower than the percentile \n",
    "            # and is lower than the mean of the next prices\n",
    "            # discharge otherwise\n",
    "            \n",
    "            if (df.at[i,PRICE] <= LOWER_PERCENTILE) & (df.at[i,PRICE] < MULTIPLE*thelist.mean()):\n",
    "                df.at[i,'decision1'] = CHARGE\n",
    "\n",
    "            if (df.at[i,PRICE] >= HIGHER_PERCENTILE) & (df.at[i,PRICE] > MULTIPLE*thelist.mean()):\n",
    "                df.at[i,'decision1'] = DISCHARGE\n",
    "                \n",
    "        else:\n",
    "            # quantile.exc requires a minimum length, so if the remaining length\n",
    "            # is less than the minimum length, use df.quantile\n",
    "            \n",
    "            thelist = df.iloc[i:][PRICE]\n",
    "            ser = pd.Series(thelist)\n",
    "            LOWER_PERCENTILE = ser.quantile(CHARGING_PERCENTILE)\n",
    "            HIGHER_PERCENTILE = ser.quantile(DISCHARGING_PERCENTILE)\n",
    "\n",
    "            if (df.at[i,PRICE] <= LOWER_PERCENTILE) & (df.at[i,PRICE] < MULTIPLE*thelist.mean()):\n",
    "                df.at[i,'decision1'] = CHARGE\n",
    "\n",
    "            if (df.at[i,PRICE] >= HIGHER_PERCENTILE) & (df.at[i,PRICE] > MULTIPLE*thelist.mean()):\n",
    "                df.at[i,'decision1'] = DISCHARGE\n",
    "            \n",
    "    return df"
   ]
  },
  {
   "cell_type": "code",
   "execution_count": 7,
   "metadata": {},
   "outputs": [],
   "source": [
    "def improve(df):\n",
    "    \"\"\" This function tries to modify the decision by increasing the discharging frequency when it's idle \"\"\"\n",
    "    \n",
    "    df['decision2'] = df['decision1']\n",
    "    IDLE = 0\n",
    "    \n",
    "    for i in range(1, len(df)-1):\n",
    "        \n",
    "        # if the current decision is idle\n",
    "        if df.at[i, 'decision1'] == IDLE:\n",
    "            \n",
    "            \n",
    "            # find the next non-idle decision\n",
    "            j = i+1\n",
    "            prev = df.at[i-1, 'decision1']\n",
    "            next_ = df.at[j, 'decision1']\n",
    "            \n",
    "            while next_ == IDLE:\n",
    "                j += 1\n",
    "                next_ = df.at[j, 'decision1']\n",
    "                \n",
    "            # if the previous decision and the next non-idle decision is the same\n",
    "            if next_ == prev:\n",
    "                \n",
    "                prices = list(df.loc[i:j-1, PRICE])\n",
    "                mean_price = sum(prices)/len(prices)\n",
    "                next_price = df.at[j, PRICE]\n",
    "                \n",
    "                # Charge at negative prices\n",
    "                if (mean_price <= 0) & (mean_price < next_price):\n",
    "                    df.at[i:j-1, 'decision2'] = CHARGE\n",
    "                    \n",
    "                # Using the revenue formula, the minimum requirement to earn a revenue\n",
    "                # by discharging at i and charging at j is MULTIPLE_OF\n",
    "                elif mean_price > (MULTIPLE_OF*next_price):\n",
    "                    df.loc[i:j-1, 'decision2'] = DISCHARGE\n",
    "                \n",
    "    \n",
    "    return df"
   ]
  },
  {
   "cell_type": "code",
   "execution_count": 8,
   "metadata": {},
   "outputs": [],
   "source": [
    "def get_opencap(i, df):\n",
    "    \"\"\"Get the opening battery capacity for every 30-minutes interval \n",
    "    Input:\n",
    "        i : Current row in df\n",
    "        df : DataFrame with 'opening' and 'closing' column\n",
    "    Return \n",
    "        opening_cap : Opening battery capacity. Integer dtype\n",
    "    \n",
    "    \"\"\"\n",
    "\n",
    "    if i != 1: #Not the first row\n",
    "        df.at[i,\"opening\"] = df.at[i-1,\"closing\"]\n",
    "    opening_cap = df.at[i, \"opening\"]\n",
    "    \n",
    "    return opening_cap\n",
    "    \n",
    "def get_dispatch(rawPower):\n",
    "    \"\"\" Get the power dispatched for every 30-minutes interval \n",
    "    Input:\n",
    "        rawPower : Current rawPower. Integer Datatype\n",
    "    Return:\n",
    "        dispatch : Raw_power dispatched from the market. Integer dtype\n",
    "    \"\"\"\n",
    "    if rawPower < 0:\n",
    "        eff = 1\n",
    "    else:\n",
    "        eff = DISCHARGE_EFF / 100\n",
    "            \n",
    "    dispatch = (rawPower / 2) * eff\n",
    "    return dispatch\n",
    "\n",
    "def get_closecap(opening_cap, dispatch):\n",
    "    \"\"\"Get the battery closing capacity for every 30-minutes interval\n",
    "    Input:\n",
    "        opening_cap : Opening battery capacity. Integer dtype\n",
    "        dispatch : Raw_power dispatched from the market. Integer dtype\n",
    "    Return:\n",
    "        closecap : Closing battery capacity. Integer dtype\n",
    "    \"\"\"\n",
    "    if dispatch < 0:\n",
    "        eff = CHARGE_EFF / 100\n",
    "    else:\n",
    "        eff = 100 / DISCHARGE_EFF\n",
    "\n",
    "    closecap = round(max(0, min((opening_cap - (dispatch * eff)), CAPACITY)), 0)\n",
    "    return closecap\n",
    "    \n",
    "def get_revenue(price, dispatch):\n",
    "    \"\"\" Get the Revenue for every 30-minutes interval\n",
    "    Input:\n",
    "        price : Market spot price for electricity. Float dtype\n",
    "        dispatch : Raw_power dispatched from the market. Integer dtype\n",
    "    Return:\n",
    "        revenue : current revenue. Integer dtype\n",
    "    \"\"\"\n",
    "    if dispatch < 0:\n",
    "        factor = 1/MLF\n",
    "    else:\n",
    "        factor = MLF \n",
    "    revenue = round(price * dispatch * factor)\n",
    "    return revenue\n",
    "\n",
    "def get_power(i, df, opening_cap):\n",
    "    \"\"\" Get the Raw Power for every 30-minutes interval\n",
    "    Input:\n",
    "        i : Current row in df\n",
    "        df : DataFrame with 'charge_forecaset' and 'discharge_forecast' column\n",
    "    Return:\n",
    "        opening_cap : Opening battery capacity. Integer dtype\n",
    "    \"\"\"\n",
    "    raw_power = 0\n",
    "    if (df.at[i,'decision2'] == CHARGE):\n",
    "        raw_power = -min(POWER, (CAPACITY-opening_cap)/EFFICIENCY*2)   # FROM checkpoint3\n",
    "        \n",
    "    elif (df.at[i,'decision2'] == DISCHARGE):\n",
    "        raw_power = min(POWER, opening_cap*2)      # FROM Algorithm 2 and 3 and checkpoint3\n",
    "            \n",
    "    return raw_power\n",
    "\n",
    "def calculate(df):\n",
    "    \"\"\" Calculate the Battery Opening, Closing Capacity, Raw Power, Market dispatch \n",
    "        and Revenue for the entire df.\n",
    "    Input:\n",
    "        df : DataFrame with 'price, opening', 'closing', 'raw_power', 'dispatch'\n",
    "            and 'revenue' column\n",
    "    Return :\n",
    "        df : DataFrame with 'price, opening', 'closing', 'raw_power', 'dispatch'\n",
    "            and 'revenue' column\n",
    "    \"\"\"\n",
    "    # Go through each 30-minute interval of df\n",
    "    for i in list(df.index):\n",
    "        # get current Spot Price\n",
    "        price = df.at[i, PRICE]\n",
    "        \n",
    "        # update opening capacity\n",
    "        opening_cap = get_opencap(i, df)\n",
    "\n",
    "        # find raw_power\n",
    "        rawPower = get_power(i, df, opening_cap)\n",
    "        df.at[i,'raw_power'] = rawPower\n",
    "\n",
    "        # find market_dispatch \n",
    "        dispatch = get_dispatch(rawPower)\n",
    "        df.at[i,\"dispatch\"] = dispatch\n",
    "\n",
    "        # find closing_capacity   \n",
    "        df.at[i,\"closing\"] = get_closecap(opening_cap, dispatch)\n",
    "\n",
    "        #find revenue        \n",
    "        df.at[i,\"revenue\"] = get_revenue(price, dispatch)\n",
    "    \n",
    "    return df"
   ]
  },
  {
   "cell_type": "code",
   "execution_count": 9,
   "metadata": {},
   "outputs": [],
   "source": [
    "def show_result(df):\n",
    "    \"\"\" Print the revenue related information computed from df.\n",
    "    Input: \n",
    "        df : DataFrame with 'revenue' column.\n",
    "    \"\"\"\n",
    "    print(\"Total revenue in the dataset:\", df[\"revenue\"].sum())\n",
    "    print(\"Total days in the dataset:\", len(df)/48)\n",
    "    print(\"Revenue per day:\", df[\"revenue\"].sum() / (len(df)/48))\n",
    "    print(\"Average Revenue per Year:\", df[\"revenue\"].sum() / (len(df)/(48*365)))\n",
    "    \n",
    "    return None\n",
    "\n",
    "def run_all(ori_df):\n",
    "    \"\"\" Run the entire data pipeline including initialisng (Data Processing), \n",
    "    finding the optimal charging and discharging period (Data Modelling), \n",
    "    calculating the revenue based on the optimal period mentioned above (Model Testing and Evaluation).\n",
    "    \n",
    "    Input:\n",
    "        ori_df : DataFrame which contains spot_price for every 30-minute interval. \n",
    "    Return:\n",
    "        df : DataFrame with 'price, opening', 'closing', 'raw_power', 'dispatch'\n",
    "            and 'revenue' column.\n",
    "    \"\"\"\n",
    "    # Start time\n",
    "    start = time.time()\n",
    "    # Initialise df\n",
    "    df2, first_row = create_df(ori_df)\n",
    "    \n",
    "    # Find Optimal Charging and Discharging period\n",
    "    df3 = algo3_modified(df2)\n",
    "    \n",
    "    # Some improvement on algorithm3\n",
    "    df3 = improve(df3)\n",
    "    \n",
    "    # Calculate the revenue\n",
    "    df = calculate(df3)\n",
    "    \n",
    "    # Add unused row back to df\n",
    "    df.loc[0] = first_row\n",
    "    df = df.sort_index()\n",
    "    \n",
    "    # Show the revenue       \n",
    "    show_result(df)\n",
    "    # End Time      \n",
    "    end = time.time()\n",
    "    print(\"Time Complexity for running the entire Algorithm 3: {time_taken}s\".format(time_taken = end-start))\n",
    "            \n",
    "    return df"
   ]
  },
  {
   "cell_type": "code",
   "execution_count": 10,
   "metadata": {},
   "outputs": [
    {
     "name": "stdout",
     "output_type": "stream",
     "text": [
      "Total revenue in the dataset: 265785.0\n",
      "Total days in the dataset: 42.0\n",
      "Revenue per day: 6328.214285714285\n",
      "Average Revenue per Year: 2309798.214285714\n",
      "Time Complexity for running the entire Algorithm 3: 1.1584908962249756s\n"
     ]
    }
   ],
   "source": [
    "# Entire Dataset\n",
    "\n",
    "# Parameters are selected using brute force approach\n",
    "\n",
    "# This is the ratio for the difference between idle price\n",
    "# and non-idle price to have a profit (Used in improve(df))\n",
    "MULTIPLE_OF = 1.58\n",
    "\n",
    "# This is the ratio for the difference between curr_price and\n",
    "# mean lookahead price to have a profit (Used in algo3_modified(df))\n",
    "MULTIPLE = 1.04\n",
    "LOOKAHEAD = 10\n",
    "CHARGING_PERCENTILE = 0.34\n",
    "DISCHARGING_PERCENTILE = 0.71\n",
    "vic_prediction = run_all(predicted_data)"
   ]
  },
  {
   "cell_type": "markdown",
   "metadata": {},
   "source": [
    "# Check Submission"
   ]
  },
  {
   "cell_type": "code",
   "execution_count": 15,
   "metadata": {},
   "outputs": [],
   "source": [
    "import sys\n",
    "sys.path.append(\"../../instructions\") # path of helper functions\n",
    "from check import * # import everything from check.py"
   ]
  },
  {
   "cell_type": "code",
   "execution_count": 16,
   "metadata": {},
   "outputs": [
    {
     "data": {
      "text/plain": [
       "(<StatusCodes.NORMAL: 0>, 133.785)"
      ]
     },
     "execution_count": 16,
     "metadata": {},
     "output_type": "execute_result"
    }
   ],
   "source": [
    "# Create a battery object and charge it. Testing\n",
    "battery1 = Battery(10)\n",
    "battery1.charge(10, 30)"
   ]
  },
  {
   "cell_type": "code",
   "execution_count": 18,
   "metadata": {},
   "outputs": [
    {
     "name": "stdout",
     "output_type": "stream",
     "text": [
      "Total revenue in the dataset: 265785.0\n",
      "Total days in the dataset: 42.0\n",
      "Revenue per day: 6328.214285714285\n",
      "Average Revenue per Year: 2309798.214285714\n",
      "Time Complexity for running the entire Algorithm 3: 1.0602312088012695s\n"
     ]
    }
   ],
   "source": [
    "# Testing set\n",
    "MULTIPLE_OF = 1.58\n",
    "MULTIPLE = 1.04\n",
    "LOOKAHEAD = 10\n",
    "CHARGING_PERCENTILE = 0.34\n",
    "DISCHARGING_PERCENTILE = 0.71\n",
    "test = run_all(predicted_data)\n",
    "submit_columns = ['datetime','Spot_Price_Prediction', 'power', 'capacity']\n",
    "\n",
    "\n",
    "# Copy the dataset \n",
    "submission_test = vic_prediction.copy()\n",
    "\n",
    "# Rename columns for submission\n",
    "submission_test = submission_test.rename(columns = {'Time (UTC+10)' : 'datetime','Regions VIC Trading Price ($/MWh)':'Spot_Price_Prediction', 'raw_power' : 'power', 'opening' : 'capacity'})\n",
    "\n",
    "# Create df similar to submission.csv\n",
    "submission_test = submission_test[submit_columns]"
   ]
  },
  {
   "cell_type": "code",
   "execution_count": 12,
   "metadata": {},
   "outputs": [],
   "source": [
    "submission_test.to_csv('submit_bonus_task.csv')"
   ]
  },
  {
   "cell_type": "markdown",
   "metadata": {},
   "source": [
    "Save the submission file to csv before dropping the `spot price prediction` column to check if the submission has bugs."
   ]
  },
  {
   "cell_type": "code",
   "execution_count": 21,
   "metadata": {},
   "outputs": [],
   "source": [
    "submission_test = submission_test[['datetime', 'power', 'capacity']]"
   ]
  },
  {
   "cell_type": "code",
   "execution_count": 22,
   "metadata": {},
   "outputs": [
    {
     "name": "stdout",
     "output_type": "stream",
     "text": [
      "Number of bugs: 0\n"
     ]
    }
   ],
   "source": [
    "# Check submission\n",
    "checked_df = check_submission(submission_test)\n",
    "\n",
    "# Not Normal. Flagged as bug\n",
    "print(\"Number of bugs:\", len(checked_df[checked_df['flag'] != 0]))"
   ]
  }
 ],
 "metadata": {
  "kernelspec": {
   "display_name": "Python 3",
   "language": "python",
   "name": "python3"
  },
  "language_info": {
   "codemirror_mode": {
    "name": "ipython",
    "version": 3
   },
   "file_extension": ".py",
   "mimetype": "text/x-python",
   "name": "python",
   "nbconvert_exporter": "python",
   "pygments_lexer": "ipython3",
   "version": "3.9.6"
  }
 },
 "nbformat": 4,
 "nbformat_minor": 2
}
